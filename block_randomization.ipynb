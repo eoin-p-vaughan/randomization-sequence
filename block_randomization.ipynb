{
 "cells": [
  {
   "cell_type": "markdown",
   "metadata": {},
   "source": [
    "# Block Randomization"
   ]
  },
  {
   "cell_type": "code",
   "execution_count": 4,
   "metadata": {},
   "outputs": [],
   "source": [
    "# dict or list of all permuted blocks for sizes\n",
    "# e.g [4,6,8]\n",
    "\n",
    "# 4: [aabb, abab, bbaa, baba]\n",
    "#6: [aaabbb, ababab, bbbaaa, bababa, abbaba, baabab]\n",
    "#8: [aaaabbbb, abababab, bbbbaaaa, babababa, abbababa, baababab]"
   ]
  },
  {
   "cell_type": "code",
   "execution_count": 5,
   "metadata": {},
   "outputs": [],
   "source": [
    "# Code randomly selects block size"
   ]
  },
  {
   "cell_type": "code",
   "execution_count": 6,
   "metadata": {},
   "outputs": [],
   "source": [
    "# Code randomly chooses a block from within a block size"
   ]
  },
  {
   "cell_type": "code",
   "execution_count": null,
   "metadata": {},
   "outputs": [],
   "source": [
    "# Read up on combinations/permutations/proablilities\n",
    "# Combinations, where order matters"
   ]
  }
 ],
 "metadata": {
  "kernelspec": {
   "display_name": "data_missingness",
   "language": "python",
   "name": "data_missingness"
  },
  "language_info": {
   "codemirror_mode": {
    "name": "ipython",
    "version": 3
   },
   "file_extension": ".py",
   "mimetype": "text/x-python",
   "name": "python",
   "nbconvert_exporter": "python",
   "pygments_lexer": "ipython3",
   "version": "3.7.8"
  }
 },
 "nbformat": 4,
 "nbformat_minor": 2
}
