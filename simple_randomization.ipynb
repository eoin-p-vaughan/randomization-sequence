{
 "cells": [
  {
   "cell_type": "markdown",
   "metadata": {},
   "source": [
    "# Simple Randomization"
   ]
  },
  {
   "cell_type": "code",
   "execution_count": 1,
   "metadata": {},
   "outputs": [],
   "source": [
    "import random\n",
    "import pandas as pd"
   ]
  },
  {
   "cell_type": "code",
   "execution_count": 2,
   "metadata": {},
   "outputs": [],
   "source": [
    "# Set the seed, pass the seed variabe into function\n",
    "# It's for reproducibiity\n",
    "# Keep global variabels in global environment, do not refernce this within function scope.\n",
    "# Pass it in as an arguement\n",
    "\n",
    "seed = 7"
   ]
  },
  {
   "cell_type": "code",
   "execution_count": 10,
   "metadata": {},
   "outputs": [],
   "source": [
    "def simple_randomization(seed, end, start = 0):\n",
    "    \"\"\"\n",
    "    generate simple randomization allocation sequence\n",
    "    \n",
    "    Parameters\n",
    "    ----------\n",
    "    seed: int\n",
    "        set seed for randomization\n",
    "    start: int \n",
    "        count start for sequence\n",
    "    end: int \n",
    "        count for end of sequence\n",
    "        \n",
    "    \n",
    "    Returns\n",
    "    -------\n",
    "    list \n",
    "        list of allocations, default 0,1 (Control, Intevention)\n",
    "    \"\"\"\n",
    "    rand_seq = []\n",
    "    random.seed(seed)\n",
    "    for i in range(start, end):\n",
    "        rand_seq.append(random.randint(0,1))\n",
    "    return rand_seq"
   ]
  },
  {
   "cell_type": "code",
   "execution_count": 11,
   "metadata": {},
   "outputs": [],
   "source": [
    "randomization_sequence = simple_randomization(seed,25)"
   ]
  },
  {
   "cell_type": "code",
   "execution_count": 15,
   "metadata": {
    "scrolled": true
   },
   "outputs": [
    {
     "name": "stdout",
     "output_type": "stream",
     "text": [
      "25\n"
     ]
    }
   ],
   "source": [
    "print(len(randomization_sequence))"
   ]
  },
  {
   "cell_type": "markdown",
   "metadata": {},
   "source": [
    "- df for allocation documentation\n",
    "- csv creation of allocation documentation\n",
    "- csv for upload into REDCap randomization module\n",
    "\n",
    "- header \"nerve block\"\n",
    "- column header one: study_id (increment) NB01, NB02\n",
    "- column header two: rand_group code \n",
    "- columm header three: rand_group_label"
   ]
  },
  {
   "cell_type": "code",
   "execution_count": null,
   "metadata": {},
   "outputs": [],
   "source": []
  }
 ],
 "metadata": {
  "kernelspec": {
   "display_name": "data_missingness",
   "language": "python",
   "name": "data_missingness"
  },
  "language_info": {
   "codemirror_mode": {
    "name": "ipython",
    "version": 3
   },
   "file_extension": ".py",
   "mimetype": "text/x-python",
   "name": "python",
   "nbconvert_exporter": "python",
   "pygments_lexer": "ipython3",
   "version": "3.7.8"
  }
 },
 "nbformat": 4,
 "nbformat_minor": 2
}
